{
 "cells": [
  {
   "cell_type": "markdown",
   "id": "dc90d024-e13c-426b-b582-7908c2226284",
   "metadata": {},
   "source": [
    "### Replicate the results from Hetland et al. (2021)\n",
    "We consider the new multivariate Dynamic Conditional Eigenvalue GARCH model (λ-MGARCH) introduced in Hetland et al. (2022 JoE). To ensure the cridability of our Eigenvalue GARCH function, we replicate the results of Table 1, in Hetland et. al.(2021)"
   ]
  },
  {
   "cell_type": "code",
   "execution_count": 1,
   "id": "769b9f78-c969-401e-96e9-c0bf9dd33785",
   "metadata": {},
   "outputs": [],
   "source": [
    "# Import Packages\n",
    "from scipy.optimize import minimize\n",
    "import numpy as np\n",
    "import pandas as pd\n",
    "from scipy.special import gamma\n",
    "import yfinance as yf\n",
    "from matplotlib import pyplot as plt \n",
    "from numpy.linalg import eig\n",
    "import Eigen_GARCH as Eigen_GARCH"
   ]
  },
  {
   "cell_type": "code",
   "execution_count": 2,
   "id": "cd048b00-ec41-4d3d-b1c7-62427a906a34",
   "metadata": {},
   "outputs": [
    {
     "name": "stdout",
     "output_type": "stream",
     "text": [
      "[*********************100%***********************]  3 of 3 completed\n"
     ]
    }
   ],
   "source": [
    "# Import Data from Yahoo Finance, adjusted closing prices \n",
    "# Bank of America corp.(BAC),  JPMorgan Chase & co.(JPM), and Wells Fargo (WFC).\n",
    "df = yf.download(\"BAC JPM WFC\", start=\"2006-01-03\", end=\"2018-01-02\",group_by=\"ticker\")\n",
    "\n",
    "# Calculate log-returns for GARCH analysis\n",
    "data = {\"BAC returns\":(np.log(df[\"BAC\"][\"Adj Close\"])-np.log(df[\"BAC\"][\"Adj Close\"].shift(1)))*100,\n",
    "      \"JPM returns\":(np.log(df[\"JPM\"][\"Adj Close\"])-np.log(df[\"JPM\"][\"Adj Close\"].shift(1)))*100,\n",
    "      \"WFC returns\":(np.log(df[\"WFC\"][\"Adj Close\"])-np.log(df[\"WFC\"][\"Adj Close\"].shift(1)))*100}\n",
    "data = pd.DataFrame.from_dict(data).dropna()"
   ]
  },
  {
   "cell_type": "code",
   "execution_count": 3,
   "id": "a1795468-4db8-40ed-bf16-be75e24772d7",
   "metadata": {},
   "outputs": [],
   "source": [
    "# Divid data set into a dataset for initial estimation and a dataset for forecasting\n",
    "data_est = data.loc[:\"2018-01-02\"]\n",
    "data_forecast = data\n",
    "\n",
    "# Timestamp \n",
    "x = np.array(data.reset_index()[\"Date\"])\n",
    "\n",
    "# Covariance of the dataset\n",
    "covdata = np.cov(data_est,bias=True)\n",
    "\n",
    "# Convert dataframe to numpy array\n",
    "data = np.array(data_est, dtype=np.float64).transpose()\n",
    "\n",
    "data_forecast = np.array(data_forecast, dtype=np.float64).transpose()\n"
   ]
  },
  {
   "cell_type": "code",
   "execution_count": 4,
   "id": "e2ae1435-d6fd-4748-9719-261ebdd07196",
   "metadata": {},
   "outputs": [
    {
     "name": "stderr",
     "output_type": "stream",
     "text": [
      "/Users/silkesommerfugl/Desktop/Master/Eigen_GARCH.py:39: RuntimeWarning: overflow encountered in matmul\n",
      "  lambdas[:,t:t+1] = W + A @ np.multiply(Xtilde[:,t-1:t],Xtilde[:,t-1:t]) + B @ lambdas[:,t-1:t]\n",
      "/Users/silkesommerfugl/Desktop/Master/Eigen_GARCH.py:42: RuntimeWarning: divide by zero encountered in log\n",
      "  lls1 = np.log(lambdas[0,:]) + np.multiply(Xtilde[0,:],Xtilde[0,:]) / lambdas[0,:]\n",
      "/Users/silkesommerfugl/Desktop/Master/Eigen_GARCH.py:42: RuntimeWarning: divide by zero encountered in true_divide\n",
      "  lls1 = np.log(lambdas[0,:]) + np.multiply(Xtilde[0,:],Xtilde[0,:]) / lambdas[0,:]\n",
      "/Users/silkesommerfugl/Desktop/Master/Eigen_GARCH.py:42: RuntimeWarning: invalid value encountered in add\n",
      "  lls1 = np.log(lambdas[0,:]) + np.multiply(Xtilde[0,:],Xtilde[0,:]) / lambdas[0,:]\n",
      "/Users/silkesommerfugl/Desktop/Master/Eigen_GARCH.py:39: RuntimeWarning: invalid value encountered in matmul\n",
      "  lambdas[:,t:t+1] = W + A @ np.multiply(Xtilde[:,t-1:t],Xtilde[:,t-1:t]) + B @ lambdas[:,t-1:t]\n",
      "/Users/silkesommerfugl/Desktop/Master/Eigen_GARCH.py:43: RuntimeWarning: divide by zero encountered in log\n",
      "  lls2 = np.log(lambdas[1,:]) + np.multiply(Xtilde[1,:],Xtilde[1,:]) / lambdas[1,:]\n",
      "/Users/silkesommerfugl/Desktop/Master/Eigen_GARCH.py:43: RuntimeWarning: divide by zero encountered in true_divide\n",
      "  lls2 = np.log(lambdas[1,:]) + np.multiply(Xtilde[1,:],Xtilde[1,:]) / lambdas[1,:]\n",
      "/Users/silkesommerfugl/Desktop/Master/Eigen_GARCH.py:43: RuntimeWarning: invalid value encountered in add\n",
      "  lls2 = np.log(lambdas[1,:]) + np.multiply(Xtilde[1,:],Xtilde[1,:]) / lambdas[1,:]\n"
     ]
    }
   ],
   "source": [
    "# Set up bounds and lambdas\n",
    "T = data.shape[1]\n",
    "k = 3\n",
    "eigenvalues, eigenvectors = eig(covdata)\n",
    "lambdas_eig = eigenvalues\n",
    "bnds = [(-np.pi/2, np.pi/2)]\n",
    "bnds_eig = [(0, np.pi)]\n",
    "\n",
    "for i in range(2*(k**2)+k+2):\n",
    "    bnds_eig.append((0, 100))\n",
    "\n",
    "# Initial values\n",
    "arguments_eig = (np.asarray(data),lambdas_eig)\n",
    "startingVals_eig = [np.random.uniform(0.01,0.2) for i in range(2*(k**2) + k + 3)]\n",
    "\n",
    "# Estimation\n",
    "estimation = minimize(Eigen_GARCH.eigenLikelihood , x0=startingVals_eig , \n",
    "                          args=arguments_eig , method=\"SLSQP\", bounds=bnds_eig, \n",
    "                          options={\"maxiter\":100000, \"ftol\":10e-14})"
   ]
  },
  {
   "cell_type": "code",
   "execution_count": 5,
   "id": "23539966-5254-4bde-8261-7818910730e6",
   "metadata": {},
   "outputs": [
    {
     "name": "stdout",
     "output_type": "stream",
     "text": [
      "W: [0.04552338 0.04494883 0.04125779]\n",
      "A: [[0.09590745 0.14324517 0.00536905]\n",
      " [0.15081984 0.0452124  0.00696146]\n",
      " [0.01336078 0.08199298 0.06799744]]\n",
      "B: [[1.04379456e-18 4.10957944e-01 7.72009158e-18]\n",
      " [6.43901848e-19 5.95594083e-01 1.29554431e-02]\n",
      " [3.16237453e-19 3.13983458e-19 9.22619307e-01]]\n",
      "V: [[-0.2596118   0.70047393 -0.66478417]\n",
      " [ 0.80798706 -0.21947801 -0.54679641]\n",
      " [-0.52892214 -0.67909181 -0.50899479]]\n",
      "Log-likelihood: -14894.535091021517\n",
      "AIC: 29837.070182043033\n",
      "BIC: 29981.374524355997\n"
     ]
    }
   ],
   "source": [
    "# Save the estimated parameter values\n",
    "phi1_eig, phi2_eig, phi3_eig, w1_eig, w2_eig, w3_eig , a11_eig , a12_eig , a13_eig, a21_eig , a22_eig, a23_eig, a31_eig , a32_eig, a33_eig , b11_eig , b12_eig, b13_eig , b21_eig , b22_eig, b23_eig, b31_eig , b32_eig, b33_eig = estimation.x\n",
    "\n",
    "# Find the llh and information criteria for the Eigen GARCH\n",
    "llh = - estimation.fun\n",
    "AIC = 2 * 24 - 2 * (llh)\n",
    "BIC = - 2 * llh + np.log(T) * 24\n",
    "\n",
    "# Load into matrices\n",
    "W_eig = np.array(([w1_eig, w2_eig, w3_eig]))\n",
    "A_eig = np.array(([a11_eig, a12_eig, a13_eig],[a21_eig, a22_eig, a23_eig],[a31_eig, a32_eig, a33_eig]))\n",
    "B_eig = np.array(([b11_eig, b12_eig, b13_eig],[b21_eig, b22_eig, b23_eig],[b31_eig, b32_eig, b33_eig]))\n",
    "V_eig = np.array(([np.cos(phi1_eig), np.sin(phi1_eig),0], [-np.sin(phi1_eig), np.cos(phi1_eig),0 ], [0, 0,1 ]))@ np.array(([np.cos(phi2_eig), 0, np.sin(phi2_eig)], [0, 1,0 ], [-np.sin(phi2_eig), 0, np.cos(phi2_eig)]))@ np.array(( [1, 0,0 ], [0,np.cos(phi3_eig), np.sin(phi3_eig)], [0,-np.sin(phi3_eig), np.cos(phi3_eig)]))\n",
    "\n",
    "print(f'W: {W_eig}')\n",
    "print(f'A: {A_eig}')\n",
    "print(f'B: {B_eig}')\n",
    "print(f'V: {V_eig}')\n",
    "print(f'Log-likelihood: {llh}')\n",
    "print(f'AIC: {AIC}')\n",
    "print(f'BIC: {BIC}')"
   ]
  }
 ],
 "metadata": {
  "kernelspec": {
   "display_name": "Python 3 (ipykernel)",
   "language": "python",
   "name": "python3"
  },
  "language_info": {
   "codemirror_mode": {
    "name": "ipython",
    "version": 3
   },
   "file_extension": ".py",
   "mimetype": "text/x-python",
   "name": "python",
   "nbconvert_exporter": "python",
   "pygments_lexer": "ipython3",
   "version": "3.8.12"
  }
 },
 "nbformat": 4,
 "nbformat_minor": 5
}
